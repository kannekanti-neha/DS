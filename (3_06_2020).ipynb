{
  "nbformat": 4,
  "nbformat_minor": 0,
  "metadata": {
    "colab": {
      "name": "(3-06-2020).ipynb",
      "provenance": []
    },
    "kernelspec": {
      "name": "python3",
      "display_name": "Python 3"
    }
  },
  "cells": [
    {
      "cell_type": "code",
      "metadata": {
        "id": "Zop4hCZL0cOF",
        "colab_type": "code",
        "colab": {
          "base_uri": "https://localhost:8080/",
          "height": 34
        },
        "outputId": "c071a741-1c5e-4059-e2e2-ec38381a763b"
      },
      "source": [
        "#1. Copy the contents of a text file into another, printing the reversed version of each input line\n",
        "f = open(\"file1.txt\", \"w\")\n",
        "f.write(\"Hello everyone. The internship course is Data Science\")\n",
        "f.close()\n",
        "\n",
        "f = open(\"file1.txt\",\"r\")\n",
        "data = f.read()\n",
        "print(data)\n",
        "f.close()\n",
        "\n",
        "f = open(\"file2.txt\",\"w\")\n",
        "f.write(data[::-1])\n",
        "f.close()"
      ],
      "execution_count": 1,
      "outputs": [
        {
          "output_type": "stream",
          "text": [
            "Hello everyone. The internship course is Data Science\n"
          ],
          "name": "stdout"
        }
      ]
    },
    {
      "cell_type": "code",
      "metadata": {
        "id": "DnfxrY1s0sYh",
        "colab_type": "code",
        "colab": {
          "base_uri": "https://localhost:8080/",
          "height": 34
        },
        "outputId": "aa7a266c-979f-4795-9a8d-13b66c8ce4c7"
      },
      "source": [
        "f=open(\"file2.txt\",\"r\")\n",
        "data1=f.read()\n",
        "print(data1)\n",
        "f.close()"
      ],
      "execution_count": 2,
      "outputs": [
        {
          "output_type": "stream",
          "text": [
            "ecneicS ataD si esruoc pihsnretni ehT .enoyreve olleH\n"
          ],
          "name": "stdout"
        }
      ]
    },
    {
      "cell_type": "code",
      "metadata": {
        "id": "uAHdcoyu0zzo",
        "colab_type": "code",
        "colab": {
          "base_uri": "https://localhost:8080/",
          "height": 136
        },
        "outputId": "77b8d769-e1e4-4868-ef97-f5d4b856c310"
      },
      "source": [
        "#2. Print the contents of a file line by line putting a line number for each line.\n",
        "L = [\"Data Science\\n\", \"Advanced Programming\\n\", \"AI and ML\\n\",\"Full Stack Web Development\\n\",\"Python Programming\\n\",\"Summer Internship\\n\"]\n",
        "\n",
        "f1 = open(\"myfile.txt\", \"w\") \n",
        "f1.writelines(L) \n",
        "f1.close()\n",
        "\n",
        "f1 = open(\"myfile.txt\", \"r\") \n",
        "count = 0\n",
        "\n",
        "print(\"Contents of file in order:\") \n",
        "for line in f1: \n",
        "    count += 1\n",
        "    print(\"{}. {}\".format(count, line.strip()))\n",
        "    \n",
        "f1.close()"
      ],
      "execution_count": 3,
      "outputs": [
        {
          "output_type": "stream",
          "text": [
            "Contents of file in order:\n",
            "1. Data Science\n",
            "2. Advanced Programming\n",
            "3. AI and ML\n",
            "4. Full Stack Web Development\n",
            "5. Python Programming\n",
            "6. Summer Internship\n"
          ],
          "name": "stdout"
        }
      ]
    },
    {
      "cell_type": "code",
      "metadata": {
        "id": "obtGQsSQ04-9",
        "colab_type": "code",
        "colab": {
          "base_uri": "https://localhost:8080/",
          "height": 34
        },
        "outputId": "dff11795-a40f-49c5-a147-bb77410716f6"
      },
      "source": [
        "#3. Avoiding Duplicates\n",
        "def Duplicates(listOfElems):\n",
        "    if len(list1) == len(set(list1)):\n",
        "        return False\n",
        "    else:\n",
        "        return True\n",
        "list1=[1,2,3,4,2]    \n",
        "result=Duplicates(list1)\n",
        "print(result)"
      ],
      "execution_count": 4,
      "outputs": [
        {
          "output_type": "stream",
          "text": [
            "True\n"
          ],
          "name": "stdout"
        }
      ]
    },
    {
      "cell_type": "code",
      "metadata": {
        "id": "jqjbuvkn0-ua",
        "colab_type": "code",
        "colab": {
          "base_uri": "https://localhost:8080/",
          "height": 102
        },
        "outputId": "e1bc5f30-6d68-4460-f6c4-6a309d7cebb7"
      },
      "source": [
        "# SOLUTION-4:\n",
        "\n",
        "from fractions import Fraction as frac\n",
        "print('Add: ' + str(frac('5/4') + frac('9/8')))\n",
        "print('Subtract: ' + str(frac('15/20') - frac('2/8')))\n",
        "print('Multiply: ' + str(frac('2/3') * frac('5/7')))\n",
        "print('Divide: ' + str(frac('80/125') / frac('12/45')))\n",
        "print('Power: ' + str(frac('5/6') ** 3))"
      ],
      "execution_count": 5,
      "outputs": [
        {
          "output_type": "stream",
          "text": [
            "Add: 19/8\n",
            "Subtract: 1/2\n",
            "Multiply: 10/21\n",
            "Divide: 12/5\n",
            "Power: 125/216\n"
          ],
          "name": "stdout"
        }
      ]
    },
    {
      "cell_type": "code",
      "metadata": {
        "id": "eE_QYtS21HOw",
        "colab_type": "code",
        "colab": {
          "base_uri": "https://localhost:8080/",
          "height": 34
        },
        "outputId": "7ee21495-30aa-4726-b76e-bc486f9f0c3f"
      },
      "source": [
        "# SOLUTION-5:\n",
        "\n",
        "L1=[1,2,1]\n",
        "L2=[2,1,1]\n",
        "def Permutation(list1,list2):\n",
        "    if len(list1)!= len(list2):\n",
        "         return False;\n",
        "    for i in range(0, len(list1)):\n",
        "           if list1.count(list1[i]) != list2.count(list1[i]):\n",
        "                 return False\n",
        "\n",
        "def islist_permutation(list1,list2):\n",
        "      if (Permutation(list1,list2) == False):\n",
        "        return False \n",
        "      else:\n",
        "        return True\n",
        "\n",
        "print(islist_permutation(L1,L2))"
      ],
      "execution_count": 6,
      "outputs": [
        {
          "output_type": "stream",
          "text": [
            "True\n"
          ],
          "name": "stdout"
        }
      ]
    }
  ]
}
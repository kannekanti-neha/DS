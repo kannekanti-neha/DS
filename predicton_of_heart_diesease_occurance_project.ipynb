{
  "nbformat": 4,
  "nbformat_minor": 0,
  "metadata": {
    "colab": {
      "name": "predicton of heart diesease occurance project.ipynb",
      "provenance": []
    },
    "kernelspec": {
      "name": "python3",
      "display_name": "Python 3"
    }
  },
  "cells": [
    {
      "cell_type": "markdown",
      "metadata": {
        "id": "kz-P7Xu1JwE2",
        "colab_type": "text"
      },
      "source": [
        "In this machine learning project, I have collected the dataset from Kaggle https://www.kaggle.com/johnsmith88/heart-disease-dataset\n",
        "and I will be using data science to predict whether any person is suffering from heart disease"
      ]
    },
    {
      "cell_type": "code",
      "metadata": {
        "id": "TIJPoz6DQQ0I",
        "colab_type": "code",
        "colab": {}
      },
      "source": [
        "import numpy as np\n",
        "import pandas as pd\n",
        "import matplotlib.pyplot as plt"
      ],
      "execution_count": 2,
      "outputs": []
    },
    {
      "cell_type": "code",
      "metadata": {
        "id": "5TeedDC4QTGR",
        "colab_type": "code",
        "colab": {}
      },
      "source": [
        ""
      ],
      "execution_count": null,
      "outputs": []
    }
  ]
}
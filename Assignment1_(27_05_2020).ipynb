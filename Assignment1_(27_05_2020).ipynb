{
  "nbformat": 4,
  "nbformat_minor": 0,
  "metadata": {
    "kernelspec": {
      "display_name": "Python 3",
      "language": "python",
      "name": "python3"
    },
    "language_info": {
      "codemirror_mode": {
        "name": "ipython",
        "version": 3
      },
      "file_extension": ".py",
      "mimetype": "text/x-python",
      "name": "python",
      "nbconvert_exporter": "python",
      "pygments_lexer": "ipython3",
      "version": "3.7.4"
    },
    "colab": {
      "name": "Assignment1-(27-05-2020).ipynb",
      "provenance": []
    }
  },
  "cells": [
    {
      "cell_type": "code",
      "metadata": {
        "id": "kq7SNATutZX2",
        "colab_type": "code",
        "colab": {
          "base_uri": "https://localhost:8080/",
          "height": 102
        },
        "outputId": "78c23707-d7e8-44e6-853e-50f188e342d9"
      },
      "source": [
        "def pattern(n): \n",
        "      \n",
        "    for i in range(0, n): \n",
        "      \n",
        "        for j in range(0, i+1): \n",
        "         \n",
        "            print(\"* \",end=\"\") \n",
        "       \n",
        "        print(\"\\r\") \n",
        "n = 5\n",
        "pattern(n) "
      ],
      "execution_count": 2,
      "outputs": [
        {
          "output_type": "stream",
          "text": [
            "* \r\n",
            "* * \r\n",
            "* * * \r\n",
            "* * * * \r\n",
            "* * * * * \r\n"
          ],
          "name": "stdout"
        }
      ]
    },
    {
      "cell_type": "code",
      "metadata": {
        "id": "vqG5VZzgtZYE",
        "colab_type": "code",
        "colab": {},
        "outputId": "0355ea49-aa4f-48e2-8258-206cd6e2851b"
      },
      "source": [
        "num=int(input(\"enter n:\"))\n",
        "\n",
        "for i in range(1, 11):\n",
        "   print(num, 'x', i, '=', num*i)"
      ],
      "execution_count": 0,
      "outputs": [
        {
          "output_type": "stream",
          "text": [
            "enter n:7\n",
            "7 x 1 = 7\n",
            "7 x 2 = 14\n",
            "7 x 3 = 21\n",
            "7 x 4 = 28\n",
            "7 x 5 = 35\n",
            "7 x 6 = 42\n",
            "7 x 7 = 49\n",
            "7 x 8 = 56\n",
            "7 x 9 = 63\n",
            "7 x 10 = 70\n"
          ],
          "name": "stdout"
        }
      ]
    },
    {
      "cell_type": "code",
      "metadata": {
        "id": "RHebHnpltZYL",
        "colab_type": "code",
        "colab": {},
        "outputId": "6101c012-d298-4a21-c604-ce446c293ca0"
      },
      "source": [
        "from math import sqrt\n",
        "a = float(input(\"a: \"))\n",
        "b = float(input(\"b: \"))\n",
        "c = float(input(\"c: \"))\n",
        "\n",
        "r = b**2 - 4*a*c\n",
        "\n",
        "if r > 0:\n",
        "    num_roots = 2\n",
        "    x1 = (((-b) + sqrt(r))/(2*a))     \n",
        "    x2 = (((-b) - sqrt(r))/(2*a))\n",
        "    print(\"There are 2 roots: %f and %f\" % (x1, x2))\n",
        "elif r == 0:\n",
        "    num_roots = 1\n",
        "    x = (-b) / 2*a\n",
        "    print(\"There is one root: \", x)\n",
        "else:\n",
        "    num_roots = 0\n",
        "    print(\"No roots, discriminant < 0.\")\n",
        "    exit()\n",
        "\t"
      ],
      "execution_count": 0,
      "outputs": [
        {
          "output_type": "stream",
          "text": [
            "a: 5\n",
            "b: 20\n",
            "c: 10\n",
            "There are 2 roots: -0.585786 and -3.414214\n"
          ],
          "name": "stdout"
        }
      ]
    },
    {
      "cell_type": "code",
      "metadata": {
        "id": "7MhADmK7tZYR",
        "colab_type": "code",
        "colab": {},
        "outputId": "ea8ea2d5-d520-4f2b-8e3a-18505da239fa"
      },
      "source": [
        "def decimalToBinary(num):\n",
        "    if num > 1:\n",
        "        decimalToBinary(num // 2)\n",
        "    print(num % 2, end='')\n",
        "\n",
        "number = int(input(\"Enter a num \"))\n",
        "\n",
        "decimalToBinary(number)"
      ],
      "execution_count": 0,
      "outputs": [
        {
          "output_type": "stream",
          "text": [
            "Enter a num 45\n",
            "101101"
          ],
          "name": "stdout"
        }
      ]
    },
    {
      "cell_type": "code",
      "metadata": {
        "id": "s_WgowQ-tZYX",
        "colab_type": "code",
        "colab": {},
        "outputId": "07697510-3f06-4c3a-f9dd-5cb7ad5eedcc"
      },
      "source": [
        "n = int(input(\"enter n \"))\n",
        "n1= 0\n",
        "n2=1\n",
        "count = 0\n",
        "while count < n:\n",
        "       print(n1)\n",
        "       nth = n1 + n2\n",
        "       n1 = n2\n",
        "       n2 = nth\n",
        "       count += 1"
      ],
      "execution_count": 0,
      "outputs": [
        {
          "output_type": "stream",
          "text": [
            "enter n 7\n",
            "0\n",
            "1\n",
            "1\n",
            "2\n",
            "3\n",
            "5\n",
            "8\n"
          ],
          "name": "stdout"
        }
      ]
    },
    {
      "cell_type": "code",
      "metadata": {
        "id": "BY5jAPFAtZYd",
        "colab_type": "code",
        "colab": {}
      },
      "source": [
        ""
      ],
      "execution_count": 0,
      "outputs": []
    }
  ]
}
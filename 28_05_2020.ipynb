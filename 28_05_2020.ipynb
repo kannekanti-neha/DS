{
  "nbformat": 4,
  "nbformat_minor": 0,
  "metadata": {
    "kernelspec": {
      "display_name": "Python 3",
      "language": "python",
      "name": "python3"
    },
    "language_info": {
      "codemirror_mode": {
        "name": "ipython",
        "version": 3
      },
      "file_extension": ".py",
      "mimetype": "text/x-python",
      "name": "python",
      "nbconvert_exporter": "python",
      "pygments_lexer": "ipython3",
      "version": "3.7.6"
    },
    "colab": {
      "name": "28-05-2020.ipynb",
      "provenance": []
    }
  },
  "cells": [
    {
      "cell_type": "code",
      "metadata": {
        "id": "yiQD8K1x3_x_",
        "colab_type": "code",
        "colab": {},
        "outputId": "ef13c5ee-b7ef-4747-d162-b90ed027679a"
      },
      "source": [
        "s1=input(\"enter the string :\")\n",
        "s2= 'good afternoon'\n",
        "print(type(s1),type(s2))"
      ],
      "execution_count": 0,
      "outputs": [
        {
          "output_type": "stream",
          "text": [
            "enter the string :good afternoon\n",
            "<class 'str'> <class 'str'>\n"
          ],
          "name": "stdout"
        }
      ]
    },
    {
      "cell_type": "code",
      "metadata": {
        "id": "pCz4uh_D3_yM",
        "colab_type": "code",
        "colab": {},
        "outputId": "56dea731-5eab-4e7e-cdea-4c384264f91f"
      },
      "source": [
        "#operators: +,*(repition),[]slice,[start:stop](slice range )\n",
        "print(s1 + s2)#concatenantion\n",
        "print(s1 * 3)#repition\n",
        "print(s1[4])#slicings\n",
        "print(s1[-1])#slicing\n",
        "print(s1[2:])#start=0,stop=length of the string,step=1"
      ],
      "execution_count": 0,
      "outputs": [
        {
          "output_type": "stream",
          "text": [
            "hellogood afternoon\n",
            "hellohellohello\n",
            "o\n",
            "o\n",
            "llo\n"
          ],
          "name": "stdout"
        }
      ]
    },
    {
      "cell_type": "code",
      "metadata": {
        "id": "nTJ77ns63_yS",
        "colab_type": "code",
        "colab": {},
        "outputId": "f32a7aca-c652-4592-d1e6-b13017f7ee11"
      },
      "source": [
        "print(s1[0:5])\n",
        "print(s1[:])"
      ],
      "execution_count": 0,
      "outputs": [
        {
          "output_type": "stream",
          "text": [
            "hello\n",
            "hello\n"
          ],
          "name": "stdout"
        }
      ]
    },
    {
      "cell_type": "code",
      "metadata": {
        "id": "NA2gsoOK3_yZ",
        "colab_type": "code",
        "colab": {},
        "outputId": "c7c2f01a-7d36-4549-80f8-83232d0779ae"
      },
      "source": [
        "# print alternate characters of string\n",
        "print(s1[::2])"
      ],
      "execution_count": 0,
      "outputs": [
        {
          "output_type": "stream",
          "text": [
            "hlo\n"
          ],
          "name": "stdout"
        }
      ]
    },
    {
      "cell_type": "code",
      "metadata": {
        "scrolled": true,
        "id": "Qi7xO9AB3_yf",
        "colab_type": "code",
        "colab": {},
        "outputId": "7f333169-a768-4ea8-a2cf-43e6e556257f"
      },
      "source": [
        "#accept a string from the user and check whether it is a palindrome or not\n",
        "s3= input(\"enter a number :\")\n",
        "if s3== s3[::-1]:\n",
        "    print(\"the given number is  palindrome \")\n",
        "else:\n",
        "        print (\"the given number is not palindrome\")"
      ],
      "execution_count": 0,
      "outputs": [
        {
          "output_type": "stream",
          "text": [
            "enter a number :101\n",
            "the given number is  palindrome \n"
          ],
          "name": "stdout"
        }
      ]
    },
    {
      "cell_type": "code",
      "metadata": {
        "id": "DiTwJPVA3_yl",
        "colab_type": "code",
        "colab": {}
      },
      "source": [
        "s4= \"python\"\n"
      ],
      "execution_count": 0,
      "outputs": []
    },
    {
      "cell_type": "code",
      "metadata": {
        "id": "ow59cf_d3_yr",
        "colab_type": "code",
        "colab": {},
        "outputId": "700b6192-1f81-454f-ae00-92bad2e7edb7"
      },
      "source": [
        "s=\"hello\"\n",
        "print(len(s))#function name())\n",
        "s=s.capitalize()\n",
        "print(s)"
      ],
      "execution_count": 0,
      "outputs": [
        {
          "output_type": "stream",
          "text": [
            "5\n",
            "Hello\n"
          ],
          "name": "stdout"
        }
      ]
    },
    {
      "cell_type": "code",
      "metadata": {
        "id": "wOyCHvZH3_yy",
        "colab_type": "code",
        "colab": {},
        "outputId": "a464e8f4-8b84-483e-846f-994e40e17baa"
      },
      "source": [
        "s1 = \"hello\"\n",
        "s2 = \"abc123\"\n",
        "s3 =\"123\"\n",
        "print(s1.isalnum())\n",
        "print(s1.isalpha())\n",
        "print(s1.isdigit())\n",
        "print(s2.isalnum())\n",
        "print(s2.isalpha())\n",
        "print(s2.isdigit())\n",
        "print(s3.isalnum())\n",
        "print(s3.isalpha())\n",
        "print(s3.isdigit())"
      ],
      "execution_count": 0,
      "outputs": [
        {
          "output_type": "stream",
          "text": [
            "True\n",
            "True\n",
            "False\n",
            "True\n",
            "False\n",
            "False\n",
            "True\n",
            "False\n",
            "True\n"
          ],
          "name": "stdout"
        }
      ]
    },
    {
      "cell_type": "code",
      "metadata": {
        "id": "lFFMv5ft3_y4",
        "colab_type": "code",
        "colab": {},
        "outputId": "bf74bba7-4afb-4e49-8b30-3b8dc46c1c55"
      },
      "source": [
        "s1 = \" python\"\n",
        "s2 = \"PYTHON\"\n",
        "print(s1.isupper())\n",
        "print(s2.islower())\n",
        "print(s1.swapcase())"
      ],
      "execution_count": 0,
      "outputs": [
        {
          "output_type": "stream",
          "text": [
            "False\n",
            "False\n",
            " PYTHON\n"
          ],
          "name": "stdout"
        }
      ]
    },
    {
      "cell_type": "code",
      "metadata": {
        "id": "yJM2VO8k3_y9",
        "colab_type": "code",
        "colab": {},
        "outputId": "d920e045-6656-4052-a509-27950f1c1297"
      },
      "source": [
        "s = \"abc abc abc \"\n",
        "s.count(\"abc\")"
      ],
      "execution_count": 0,
      "outputs": [
        {
          "output_type": "execute_result",
          "data": {
            "text/plain": [
              "3"
            ]
          },
          "metadata": {
            "tags": []
          },
          "execution_count": 25
        }
      ]
    },
    {
      "cell_type": "code",
      "metadata": {
        "id": "mIss-adx3_zD",
        "colab_type": "code",
        "colab": {},
        "outputId": "c6be237d-90e7-48e6-8b15-a0f897a0f423"
      },
      "source": [
        "s.split()\n",
        "print(s.split())\n",
        "s1=\"a,b,c,d\"\n",
        "print(s1.split(\",\"))"
      ],
      "execution_count": 0,
      "outputs": [
        {
          "output_type": "stream",
          "text": [
            "['abc', 'abc', 'abc']\n",
            "['a', 'b', 'c', 'd']\n"
          ],
          "name": "stdout"
        }
      ]
    },
    {
      "cell_type": "code",
      "metadata": {
        "id": "YiIEhwFp3_zJ",
        "colab_type": "code",
        "colab": {},
        "outputId": "4f175baf-0151-42f7-c5fe-94a4865f4ae0"
      },
      "source": [
        "# replace \n",
        "s = \"abc\"#azc\n",
        "s = s.replace ('d','z')\n",
        "print(s)"
      ],
      "execution_count": 0,
      "outputs": [
        {
          "output_type": "stream",
          "text": [
            "abc\n"
          ],
          "name": "stdout"
        }
      ]
    },
    {
      "cell_type": "code",
      "metadata": {
        "id": "yi7ipZuB3_zP",
        "colab_type": "code",
        "colab": {},
        "outputId": "f1ec231e-f710-4fdd-ac2c-573fbccbd28f"
      },
      "source": [
        "#accept a number(n) from the user and remove the nth position\n",
        "#  charater from the string\n",
        "# n =3\n",
        "# s = abcabc\n",
        "# output : ababc\n",
        "n = int(input( \"enter position\"))\n",
        "s= input (\"enter the string\")\n",
        "print(s.replace(s[n-1],\"\",1))"
      ],
      "execution_count": 0,
      "outputs": [
        {
          "output_type": "stream",
          "text": [
            "enter position3\n",
            "enter the stringabcabc\n",
            "ababc\n"
          ],
          "name": "stdout"
        }
      ]
    },
    {
      "cell_type": "code",
      "metadata": {
        "id": "bGe5IFIw3_zU",
        "colab_type": "code",
        "colab": {}
      },
      "source": [
        "### for loop:\n",
        "1. for loop with range () function\n",
        "2. for loop with iterable object\n"
      ],
      "execution_count": 0,
      "outputs": []
    },
    {
      "cell_type": "code",
      "metadata": {
        "id": "U8IBR9bN3_zZ",
        "colab_type": "code",
        "colab": {},
        "outputId": "04d346d7-8bce-47b3-8e47-f132b086a1f0"
      },
      "source": [
        "# print 1-n numbers on the screen\n",
        "n=10\n",
        "for i in range(1,n+1):\n",
        "print(i,end = \" \")\n",
        "print()\n",
        "i = 1\n",
        "while 1<=n:\n",
        "    print(i,end= \" \")\n",
        "    i += 1\n",
        "    "
      ],
      "execution_count": 0,
      "outputs": [
        {
          "output_type": "error",
          "ename": "IndentationError",
          "evalue": "expected an indented block (<ipython-input-41-02278638e0d7>, line 4)",
          "traceback": [
            "\u001b[1;36m  File \u001b[1;32m\"<ipython-input-41-02278638e0d7>\"\u001b[1;36m, line \u001b[1;32m4\u001b[0m\n\u001b[1;33m    print(i,end = \" \")\u001b[0m\n\u001b[1;37m        ^\u001b[0m\n\u001b[1;31mIndentationError\u001b[0m\u001b[1;31m:\u001b[0m expected an indented block\n"
          ]
        }
      ]
    },
    {
      "cell_type": "code",
      "metadata": {
        "id": "v7jojT_J3_zf",
        "colab_type": "code",
        "colab": {},
        "outputId": "f32aa4ed-2cf6-47d9-c086-bd066e6a831d"
      },
      "source": [
        "s= \"python \"\n",
        "for i in s:\n",
        "    print(i)\n",
        "    i = 0\n",
        "    while i <= len(s)\n",
        "    print(s[i])\n",
        "    i += 1\n",
        "    \n",
        "    "
      ],
      "execution_count": 0,
      "outputs": [
        {
          "output_type": "stream",
          "text": [
            "p\n",
            "y\n",
            "t\n",
            "h\n",
            "o\n",
            "n\n",
            " \n"
          ],
          "name": "stdout"
        }
      ]
    },
    {
      "cell_type": "code",
      "metadata": {
        "id": "ObPuk7H33_zk",
        "colab_type": "code",
        "colab": {},
        "outputId": "b8e9b1c7-d329-4a8c-c09e-e160468bf4f3"
      },
      "source": [
        "s = \"python \"\n",
        "for i in s:\n",
        "    print(i)\n",
        "    i=0\n",
        "    while  i < len(s)\n",
        "    print(s[i])\n",
        "    i += 1\n",
        "    \n",
        "    for j in range (0,len(s)):\n",
        "        print(s[j])\n",
        "    "
      ],
      "execution_count": 0,
      "outputs": [
        {
          "output_type": "error",
          "ename": "SyntaxError",
          "evalue": "invalid syntax (<ipython-input-44-79b8fc65e840>, line 5)",
          "traceback": [
            "\u001b[1;36m  File \u001b[1;32m\"<ipython-input-44-79b8fc65e840>\"\u001b[1;36m, line \u001b[1;32m5\u001b[0m\n\u001b[1;33m    while  i < len(s)\u001b[0m\n\u001b[1;37m                     ^\u001b[0m\n\u001b[1;31mSyntaxError\u001b[0m\u001b[1;31m:\u001b[0m invalid syntax\n"
          ]
        }
      ]
    },
    {
      "cell_type": "code",
      "metadata": {
        "id": "GhicO5EU3_zq",
        "colab_type": "code",
        "colab": {}
      },
      "source": [
        ""
      ],
      "execution_count": 0,
      "outputs": []
    },
    {
      "cell_type": "code",
      "metadata": {
        "id": "kCGyT6nZ3_zz",
        "colab_type": "code",
        "colab": {}
      },
      "source": [
        ""
      ],
      "execution_count": 0,
      "outputs": []
    }
  ]
}
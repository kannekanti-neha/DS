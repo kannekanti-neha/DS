{
  "nbformat": 4,
  "nbformat_minor": 0,
  "metadata": {
    "colab": {
      "name": "02-06-2020.ipynb",
      "provenance": []
    },
    "kernelspec": {
      "name": "python3",
      "display_name": "Python 3"
    }
  },
  "cells": [
    {
      "cell_type": "code",
      "metadata": {
        "id": "3037cDJ9RFsH",
        "colab_type": "code",
        "colab": {}
      },
      "source": [
        ""
      ],
      "execution_count": 0,
      "outputs": []
    },
    {
      "cell_type": "code",
      "metadata": {
        "id": "TcDRcHd8RGR-",
        "colab_type": "code",
        "colab": {
          "base_uri": "https://localhost:8080/",
          "height": 238
        },
        "outputId": "ee7671a2-2b87-464c-a9c2-930fa0b1d9b2"
      },
      "source": [
        "import random\n",
        "l=9\n",
        "list1=('apple','build','pizza','plays')\n",
        "a=random.choice(list1)\n",
        "s=list('?????')\n",
        "g=False\n",
        "i=0\n",
        "while(l>0):\n",
        "    print(s)\n",
        "    letter=input(\"enter letter or word \")\n",
        "    if letter==a:\n",
        "        print(\"Won\")\n",
        "        g=True\n",
        "        break\n",
        "    elif letter in a:\n",
        "        while(i<len(a)):\n",
        "            if letter==a[i]:\n",
        "                s[i]=letter\n",
        "                i+=1\n",
        "            break\n",
        "    else:\n",
        "        l-=1\n",
        "        print(\"lives left\",l)\n",
        "if g==False:\n",
        "    print(\"Game over\")"
      ],
      "execution_count": 5,
      "outputs": [
        {
          "output_type": "stream",
          "text": [
            "['?', '?', '?', '?', '?']\n",
            "enter letter or word a\n",
            "['a', '?', '?', '?', '?']\n",
            "enter letter or word p\n",
            "['a', 'p', '?', '?', '?']\n",
            "enter letter or word p\n",
            "['a', 'p', 'p', '?', '?']\n",
            "enter letter or word l\n",
            "['a', 'p', 'p', 'l', '?']\n",
            "enter letter or word e\n",
            "['a', 'p', 'p', 'l', 'e']\n",
            "enter letter or word apple\n",
            "Won\n"
          ],
          "name": "stdout"
        }
      ]
    }
  ]
}
{
  "nbformat": 4,
  "nbformat_minor": 0,
  "metadata": {
    "colab": {
      "name": "01-06-2020.ipynb",
      "provenance": []
    },
    "kernelspec": {
      "name": "python3",
      "display_name": "Python 3"
    }
  },
  "cells": [
    {
      "cell_type": "code",
      "metadata": {
        "id": "MawkOrMDEGXT",
        "colab_type": "code",
        "colab": {}
      },
      "source": [
        ""
      ],
      "execution_count": 0,
      "outputs": []
    },
    {
      "cell_type": "code",
      "metadata": {
        "id": "oY6XyO2XEGjh",
        "colab_type": "code",
        "colab": {
          "base_uri": "https://localhost:8080/",
          "height": 498
        },
        "outputId": "bcddaba3-9e68-4d51-ea7b-1abc1456fcd4"
      },
      "source": [
        "import random\n",
        "a=['happy','sad','sleepy','annoy','dizzy','busy','famous','amazing','fancy','motionless']\n",
        "b=['dog','cat','rat','horse','bird','cow','dinosaur','ox','cow','buffalo']\n",
        "c=('!','@','#','$','(',')','*','+','-','.','/',':',';','<','=')\n",
        "while(True):\n",
        "    d=input(\"Enter yes if password is correct and no if the password is incorrect\")\n",
        "    if(d=='no'):\n",
        "        print(random.choice(a)+random.choice(b)+str(random.randint(1,10))+random.choice(c))\n",
        "    else:\n",
        "        breakno"
      ],
      "execution_count": 0,
      "outputs": [
        {
          "output_type": "stream",
          "text": [
            "Enter yes if password is correct and no if the password is incorrectno\n",
            "sadbird3;\n",
            "Enter yes if password is correct and no if the password is incorrectno\n",
            "sleepybuffalo7<\n",
            "Enter yes if password is correct and no if the password is incorrectno\n",
            "annoyhorse10-\n",
            "Enter yes if password is correct and no if the password is incorrectno\n",
            "busyrat8(\n",
            "Enter yes if password is correct and no if the password is incorrectno\n",
            "famousdog5+\n",
            "Enter yes if password is correct and no if the password is incorrectno\n",
            "happycow2#\n",
            "Enter yes if password is correct and no if the password is incorrectno\n",
            "dizzycat4*\n",
            "Enter yes if password is correct and no if the password is incorrectno\n",
            "sleepycow4/\n",
            "Enter yes if password is correct and no if the password is incorrectno\n",
            "annoyox3$\n",
            "Enter yes if password is correct and no if the password is incorrectno\n",
            "famousdog3(\n",
            "Enter yes if password is correct and no if the password is incorrectno\n",
            "amazingdog3+\n",
            "Enter yes if password is correct and no if the password is incorrectno\n",
            "sadbird7/\n",
            "Enter yes if password is correct and no if the password is incorrectno\n",
            "fancyhorse10;\n"
          ],
          "name": "stdout"
        }
      ]
    },
    {
      "cell_type": "code",
      "metadata": {
        "id": "uav5Q4g6GIRw",
        "colab_type": "code",
        "colab": {}
      },
      "source": [
        ""
      ],
      "execution_count": 0,
      "outputs": []
    },
    {
      "cell_type": "code",
      "metadata": {
        "id": "EPjJuCO8FKfT",
        "colab_type": "code",
        "colab": {}
      },
      "source": [
        "#5. creating the folder--> 5files\n",
        "import os \n",
        "import string\n",
        "import random\n",
        "#os.mkdir(\"python class\")\n",
        "for i in range (1,6):\n",
        "    file_name = \"C:\\\\Users\\\\DELL\\\\Desktop\\\\Internship\\\\Data Science\\\\python class\\\\file%d\"%(i)\n",
        "    f = open(file_name,\"a\")\n",
        "    data = \"\"\n",
        "    for i in range(512):\n",
        "        data = data + random.choice(string.ascii_letters) \n",
        "    f.write(data)\n",
        "    f.close()"
      ],
      "execution_count": 0,
      "outputs": []
    },
    {
      "cell_type": "code",
      "metadata": {
        "id": "djBL83ViFOJx",
        "colab_type": "code",
        "colab": {}
      },
      "source": [
        ""
      ],
      "execution_count": 0,
      "outputs": []
    }
  ]
}
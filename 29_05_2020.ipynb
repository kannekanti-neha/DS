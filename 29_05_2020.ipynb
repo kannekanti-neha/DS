{
  "nbformat": 4,
  "nbformat_minor": 0,
  "metadata": {
    "kernelspec": {
      "display_name": "Python 3",
      "language": "python",
      "name": "python3"
    },
    "language_info": {
      "codemirror_mode": {
        "name": "ipython",
        "version": 3
      },
      "file_extension": ".py",
      "mimetype": "text/x-python",
      "name": "python",
      "nbconvert_exporter": "python",
      "pygments_lexer": "ipython3",
      "version": "3.7.6"
    },
    "colab": {
      "name": "29-05-2020.ipynb",
      "provenance": []
    }
  },
  "cells": [
    {
      "cell_type": "code",
      "metadata": {
        "id": "GD-Rhz46_K9c",
        "colab_type": "code",
        "colab": {},
        "outputId": "4f29138d-0c52-42f5-d862-5aa560e42152"
      },
      "source": [
        "#loop control statements : break,continue\n",
        "for i in range(1,11):\n",
        "    if i % 5 == 0:\n",
        "         break\n",
        "    else:\n",
        "        print(i)\n",
        "        "
      ],
      "execution_count": 0,
      "outputs": [
        {
          "output_type": "stream",
          "text": [
            "1\n",
            "2\n",
            "3\n",
            "4\n"
          ],
          "name": "stdout"
        }
      ]
    },
    {
      "cell_type": "code",
      "metadata": {
        "id": "TXXEgyfU_K9o",
        "colab_type": "code",
        "colab": {},
        "outputId": "d01fd6f2-10fb-4c5f-edf1-1d10667d0911"
      },
      "source": [
        "for i in range(1,11):\n",
        "    if i % 5 == 0:\n",
        "        continue\n",
        "    else: \n",
        "        print(i)"
      ],
      "execution_count": 0,
      "outputs": [
        {
          "output_type": "stream",
          "text": [
            "1\n",
            "2\n",
            "3\n",
            "4\n",
            "6\n",
            "7\n",
            "8\n",
            "9\n"
          ],
          "name": "stdout"
        }
      ]
    },
    {
      "cell_type": "code",
      "metadata": {
        "id": "TdLvJ8_g_K9u",
        "colab_type": "code",
        "colab": {}
      },
      "source": [
        "#Program to validate the username and password given by the user.if give wrong it should ask the username and password again and again until user gives the correct credentials\n",
        "\n"
      ],
      "execution_count": 0,
      "outputs": []
    },
    {
      "cell_type": "code",
      "metadata": {
        "id": "CjE_PFHV_K90",
        "colab_type": "code",
        "colab": {},
        "outputId": "da0506cd-259d-4dcb-b41b-7a38fe255a73"
      },
      "source": [
        "#username:python\n",
        "#password:abc123\n",
        "while True:\n",
        "  user=input(\"enter your name: \")\n",
        "  if user == \"python\":\n",
        "     pwd=input(\"enter your password: \")\n",
        "     if pwd==\"abc123\":\n",
        "        print(\"Login Successful!!\")\n",
        "        break\n",
        "  else:\n",
        "     continue"
      ],
      "execution_count": 0,
      "outputs": [
        {
          "output_type": "stream",
          "text": [
            "enter your name: shraavya\n",
            "enter your name: python\n",
            "enter your password: hdhjsiwha\n",
            "enter your name: python\n",
            "enter your password: abc123\n",
            "Login Successful!!\n"
          ],
          "name": "stdout"
        }
      ]
    },
    {
      "cell_type": "code",
      "metadata": {
        "id": "NKnAd4Az_K96",
        "colab_type": "code",
        "colab": {}
      },
      "source": [
        "Functions:\n",
        "block of statements\n",
        "\n",
        "1.predefined(which are already)\n",
        "\n",
        "   -len(),print(),input(),min(),max()\n",
        "2.user-defined(custom function)\n",
        "\n",
        "```def function_name(parameter list):\n",
        "\n",
        "   statements\n",
        " \n",
        "   return ```\n"
      ],
      "execution_count": 0,
      "outputs": []
    },
    {
      "cell_type": "code",
      "metadata": {
        "id": "m2LmO2jL_K-A",
        "colab_type": "code",
        "colab": {},
        "outputId": "b7ef93f3-1754-4a3d-8c1f-0bd2bc029d4e"
      },
      "source": [
        "def name(username):#Function definition\n",
        "    print(\"hello\",username)\n",
        "\n",
        "name(\"shraavya\")#Function calling"
      ],
      "execution_count": 0,
      "outputs": [
        {
          "output_type": "stream",
          "text": [
            "hello shraavya\n"
          ],
          "name": "stdout"
        }
      ]
    },
    {
      "cell_type": "code",
      "metadata": {
        "id": "aDhVa3-A_K-G",
        "colab_type": "code",
        "colab": {},
        "outputId": "2ae0255e-945d-4b8b-a0df-465fb026f6c2"
      },
      "source": [
        "def addition(a,b):\n",
        "    return a+b,a-b,a*b,a/b\n",
        "    \n",
        "print(addition(10,20))\n",
        "print(addition(100,200))\n",
        "print(addition(110,220))\n"
      ],
      "execution_count": 0,
      "outputs": [
        {
          "output_type": "stream",
          "text": [
            "(30, -10, 200, 0.5)\n",
            "(300, -100, 20000, 0.5)\n",
            "(330, -110, 24200, 0.5)\n"
          ],
          "name": "stdout"
        }
      ]
    },
    {
      "cell_type": "code",
      "metadata": {
        "id": "vD7tNhrq_K-N",
        "colab_type": "code",
        "colab": {},
        "outputId": "d43b4398-ffa0-4912-87dd-5b92c7f72a23"
      },
      "source": [
        "#Multiple return values\n",
        "def arithmetic(a,b):\n",
        "    return a+b,a-b,a*b,a/b\n",
        "\n",
        "#unpacking\n",
        "add,sub,mul,div = arithmetic(10,20)\n",
        "print(sub)"
      ],
      "execution_count": 0,
      "outputs": [
        {
          "output_type": "stream",
          "text": [
            "-10\n"
          ],
          "name": "stdout"
        }
      ]
    },
    {
      "cell_type": "code",
      "metadata": {
        "id": "kYUrgGEH_K-T",
        "colab_type": "code",
        "colab": {}
      },
      "source": [
        "Different Types Of arguments\n",
        "1.required positional arguments\n",
        "\n",
        "2.default argument\n",
        "\n",
        "3.keyword argument\n",
        "\n",
        "4.vatiable length argument\n",
        "\n"
      ],
      "execution_count": 0,
      "outputs": []
    },
    {
      "cell_type": "code",
      "metadata": {
        "id": "5uDTzDNR_K-Y",
        "colab_type": "code",
        "colab": {},
        "outputId": "eff52584-acf4-495d-d487-de2ec9b8fd7a"
      },
      "source": [
        "def add(a,b):\n",
        "    return(a+b)\n",
        "add(10,20)\n",
        "#add(10,20,30)\n",
        "    "
      ],
      "execution_count": 0,
      "outputs": [
        {
          "output_type": "execute_result",
          "data": {
            "text/plain": [
              "30"
            ]
          },
          "metadata": {
            "tags": []
          },
          "execution_count": 13
        }
      ]
    },
    {
      "cell_type": "code",
      "metadata": {
        "id": "yX-HrnF1_K-e",
        "colab_type": "code",
        "colab": {},
        "outputId": "546652ab-7a26-4986-f6f1-25fbea76c170"
      },
      "source": [
        "#default argument \n",
        "#default argument should be at the end of arg list\n",
        "def add(a,b=100):\n",
        "    return a+b\n",
        "\n",
        "print(add(100))\n",
        "print(add(200,200))    "
      ],
      "execution_count": 0,
      "outputs": [
        {
          "output_type": "stream",
          "text": [
            "200\n",
            "400\n"
          ],
          "name": "stdout"
        }
      ]
    },
    {
      "cell_type": "code",
      "metadata": {
        "id": "doOT6tEr_K-j",
        "colab_type": "code",
        "colab": {},
        "outputId": "78f2a19f-79cd-47e7-f4f6-8c2578259868"
      },
      "source": [
        "#keyword argument:\n",
        "def add(a,b):\n",
        "    print(\"a value:\",a)\n",
        "    print(\"b value:\",b)\n",
        "    return(a+b)\n",
        "add(b=10,a=20)   "
      ],
      "execution_count": 0,
      "outputs": [
        {
          "output_type": "stream",
          "text": [
            "a value: 20\n",
            "b value: 10\n"
          ],
          "name": "stdout"
        },
        {
          "output_type": "execute_result",
          "data": {
            "text/plain": [
              "30"
            ]
          },
          "metadata": {
            "tags": []
          },
          "execution_count": 15
        }
      ]
    },
    {
      "cell_type": "code",
      "metadata": {
        "id": "1mPTR2gE_K-o",
        "colab_type": "code",
        "colab": {},
        "outputId": "6f220aa3-85dc-476a-89b7-9047f26a5cdc"
      },
      "source": [
        "#variable length arguments\n",
        "#(120,230,34,450,460)-->Tuple\n",
        "def add(*a):\n",
        "    m = 1\n",
        "    for i in a:\n",
        "        m = m*i \n",
        "    return m\n",
        "\n",
        "print(add(10,20))\n",
        "print(add(10,20,30))\n",
        "print(add(10,20,30,40))"
      ],
      "execution_count": 0,
      "outputs": [
        {
          "output_type": "stream",
          "text": [
            "200\n",
            "6000\n",
            "240000\n"
          ],
          "name": "stdout"
        }
      ]
    },
    {
      "cell_type": "code",
      "metadata": {
        "id": "TxHklM4D_K-u",
        "colab_type": "code",
        "colab": {},
        "outputId": "e35e6204-32e1-4d25-e20c-ee4ae157307b"
      },
      "source": [
        "#Nested Functions : square,cube\n",
        "def square(a):\n",
        "    return a*a\n",
        "\n",
        "def cube(x):\n",
        "    return square(x)*x\n",
        "\n",
        "print(square(10))\n",
        "print(cube(10))        "
      ],
      "execution_count": 0,
      "outputs": [
        {
          "output_type": "stream",
          "text": [
            "100\n",
            "1000\n"
          ],
          "name": "stdout"
        }
      ]
    },
    {
      "cell_type": "code",
      "metadata": {
        "id": "TJ_1hZfv_K-z",
        "colab_type": "code",
        "colab": {}
      },
      "source": [
        "# Data Structures\n",
        "**List**:\n",
        "   \n",
        "\n",
        "*   Collection of elements enclosed in[] and seperated by ,\n",
        "*   lists are mutable,indexed,ordered adn allows duplicate values\n",
        "*   list allows heterogenous values\n",
        "\n",
        "\n",
        "\n"
      ],
      "execution_count": 0,
      "outputs": []
    },
    {
      "cell_type": "code",
      "metadata": {
        "id": "UocYiWYv_K-4",
        "colab_type": "code",
        "colab": {},
        "outputId": "d01f2c13-6280-4bc8-e4ac-48e6235c4dd5"
      },
      "source": [
        "list1=[12,23.45,True,\"abc\",12]\n",
        "print(type(list1))#operators supported by list : +,*,[],[:],in,not in\n",
        "list1=[1,2,3]\n",
        "list2=[10,20,30]\n",
        "print(list1+list2)#concatenation\n",
        "print(list1*3)#repitition\n",
        "print(list1[1])#2\n",
        "print(list1[1:3])#[1,2]\n",
        "print(2 in list1)#true\n",
        "print(200 in list1)#False"
      ],
      "execution_count": 0,
      "outputs": [
        {
          "output_type": "stream",
          "text": [
            "<class 'list'>\n"
          ],
          "name": "stdout"
        }
      ]
    },
    {
      "cell_type": "code",
      "metadata": {
        "id": "hIukE1xP_K-9",
        "colab_type": "code",
        "colab": {},
        "outputId": "5d5c7571-b2bb-492b-d5c7-a750255e8d45"
      },
      "source": [
        "#Built-in functions:len(),min(),max(),list()\n",
        "list1 = [1,2,3,40]\n",
        "s1=\"python\"\n",
        "print(len(list1))\n",
        "print(min(list1))\n",
        "print(max(list1))\n",
        "list2 = list(s1)\n",
        "print(list2)\n",
        "list1[-1] = 100\n",
        "print(list1)"
      ],
      "execution_count": 0,
      "outputs": [
        {
          "output_type": "stream",
          "text": [
            "4\n",
            "1\n",
            "40\n",
            "['p', 'y', 't', 'h', 'o', 'n']\n",
            "[1, 2, 3, 100]\n"
          ],
          "name": "stdout"
        }
      ]
    },
    {
      "cell_type": "code",
      "metadata": {
        "id": "yENp4JoL_K_D",
        "colab_type": "code",
        "colab": {}
      },
      "source": [
        ""
      ],
      "execution_count": 0,
      "outputs": []
    }
  ]
}